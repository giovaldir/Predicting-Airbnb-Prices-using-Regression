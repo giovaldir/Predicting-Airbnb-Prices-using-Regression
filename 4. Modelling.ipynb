{
 "cells": [
  {
   "cell_type": "code",
   "execution_count": 1,
   "metadata": {},
   "outputs": [],
   "source": [
    "import pickle\n",
    "import pandas as pd"
   ]
  },
  {
   "cell_type": "code",
   "execution_count": 4,
   "metadata": {},
   "outputs": [
    {
     "name": "stdout",
     "output_type": "stream",
     "text": [
      "10935.685\n"
     ]
    }
   ],
   "source": [
    "with open('XGBR','rb') as model:\n",
    "    Model = pickle.load(model)\n",
    "\n",
    "kolom = ['neighbourhood_cleansed', 'property_type', 'room_type',\n",
    "       'instant_bookable', 'reviews_per_month', 'review_scores_rating',\n",
    "       'availability_365', 'guests_included', 'beds', 'bedrooms',\n",
    "       'accommodates', 'security_deposit', 'cleaning_fee', 'extra_people',\n",
    "       'Posisi', 'cancellation', 'license_', 'heating', 'wifi', 'ac',\n",
    "       'hairdryer', 'refrigerator', 'smoke', 'essentials', 'kitchen', 'washer',\n",
    "       'TV', 'fire_ex', 'hotwater', 'hanger', 'shampoo', 'num_amenities',\n",
    "       'num_verifications']\n",
    "data = [[19,0,0,1,-1.085295,-0.865980,75,-0.999811,0.467519,-0.196194,3,0.862995,-0.244008,0.728473,0,0,0.000531,0,1,1,1,1,1,1,0,1,0,1,1,1,1,17,7]]\n",
    "df = pd.DataFrame(data=data, columns=kolom)\n",
    "\n",
    "pred = Model.predict(df)[0]\n",
    "print(pred)"
   ]
  }
 ],
 "metadata": {
  "kernelspec": {
   "display_name": "Python 3",
   "language": "python",
   "name": "python3"
  },
  "language_info": {
   "codemirror_mode": {
    "name": "ipython",
    "version": 3
   },
   "file_extension": ".py",
   "mimetype": "text/x-python",
   "name": "python",
   "nbconvert_exporter": "python",
   "pygments_lexer": "ipython3",
   "version": "3.7.6"
  }
 },
 "nbformat": 4,
 "nbformat_minor": 4
}
