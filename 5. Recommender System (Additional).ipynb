{
 "cells": [
  {
   "cell_type": "markdown",
   "metadata": {},
   "source": [
    "# RECOMMENDATION SYSTEM - CONTENT BASED\n",
    "\n",
    "Saya menggunakan Recommendation System untuk mempelajari spesifikasi dari beberapa Airbnb yang telah memiliki reviews score rating 100 di setiap area yang paling profit. Rekomendasi akan dilakukan berdasarkan kemiripan score dan space yang disediakan oleh Airbnb tersebut. Dengan memprovide rekomendasi ini, kita akan mengetahui apa yang disukai pasar, spesifikasi apa yang dibutuhkan sebuah airbnb, dan tentu nya akan memudahkan sang pengusaha untuk mendapatkan keuntungan."
   ]
  },
  {
   "cell_type": "code",
   "execution_count": 30,
   "metadata": {},
   "outputs": [],
   "source": [
    "import pandas as pd\n",
    "import numpy as np\n",
    "from sklearn.metrics.pairwise import cosine_similarity\n",
    "from sklearn.feature_extraction.text import TfidfVectorizer\n",
    "from sklearn.metrics.pairwise import linear_kernel\n",
    "from nltk.corpus import stopwords\n",
    "import re\n",
    "import random"
   ]
  },
  {
   "cell_type": "code",
   "execution_count": 31,
   "metadata": {},
   "outputs": [],
   "source": [
    "airbnb = pd.read_csv('./Desktop/listings-2.csv', usecols = ['id','neighbourhood_cleansed', 'name', 'review_scores_rating'])"
   ]
  },
  {
   "cell_type": "code",
   "execution_count": 32,
   "metadata": {},
   "outputs": [
    {
     "data": {
      "text/plain": [
       "Shinjuku Ku    2770\n",
       "Taito Ku       2048\n",
       "Toshima Ku     1553\n",
       "Sumida Ku      1339\n",
       "Shibuya Ku     1052\n",
       "Name: neighbourhood_cleansed, dtype: int64"
      ]
     },
     "execution_count": 32,
     "metadata": {},
     "output_type": "execute_result"
    }
   ],
   "source": [
    "airbnb['neighbourhood_cleansed'].value_counts().head(5)"
   ]
  },
  {
   "cell_type": "code",
   "execution_count": 33,
   "metadata": {},
   "outputs": [],
   "source": [
    "airbnb_top_shinjuku = airbnb[(airbnb['review_scores_rating']==100)&(airbnb['neighbourhood_cleansed']==\"Shinjuku Ku\")]\n",
    "airbnb_top_taitoku = airbnb[(airbnb['review_scores_rating']==100)&(airbnb['neighbourhood_cleansed']==\"Taito Ku\")]\n",
    "airbnb_top_toshimaku = airbnb[(airbnb['review_scores_rating']==100)&(airbnb['neighbourhood_cleansed']==\"Toshima Ku\")]\n",
    "airbnb_top_sumidaku = airbnb[(airbnb['review_scores_rating']==100)&(airbnb['neighbourhood_cleansed']==\"Sumida Ku\")]\n",
    "airbnb_top_shibuya = airbnb[(airbnb['review_scores_rating']==100)&(airbnb['neighbourhood_cleansed']==\"Shibuya Ku\")]"
   ]
  },
  {
   "cell_type": "code",
   "execution_count": 34,
   "metadata": {},
   "outputs": [
    {
     "data": {
      "text/html": [
       "<div>\n",
       "<style scoped>\n",
       "    .dataframe tbody tr th:only-of-type {\n",
       "        vertical-align: middle;\n",
       "    }\n",
       "\n",
       "    .dataframe tbody tr th {\n",
       "        vertical-align: top;\n",
       "    }\n",
       "\n",
       "    .dataframe thead th {\n",
       "        text-align: right;\n",
       "    }\n",
       "</style>\n",
       "<table border=\"1\" class=\"dataframe\">\n",
       "  <thead>\n",
       "    <tr style=\"text-align: right;\">\n",
       "      <th></th>\n",
       "      <th>id</th>\n",
       "      <th>name</th>\n",
       "      <th>neighbourhood_cleansed</th>\n",
       "      <th>review_scores_rating</th>\n",
       "    </tr>\n",
       "  </thead>\n",
       "  <tbody>\n",
       "    <tr>\n",
       "      <th>374</th>\n",
       "      <td>8398953</td>\n",
       "      <td>EXPERIENCE JAPAN with my family!!</td>\n",
       "      <td>Shinjuku Ku</td>\n",
       "      <td>100.0</td>\n",
       "    </tr>\n",
       "  </tbody>\n",
       "</table>\n",
       "</div>"
      ],
      "text/plain": [
       "          id                               name neighbourhood_cleansed  \\\n",
       "374  8398953  EXPERIENCE JAPAN with my family!!            Shinjuku Ku   \n",
       "\n",
       "     review_scores_rating  \n",
       "374                 100.0  "
      ]
     },
     "execution_count": 34,
     "metadata": {},
     "output_type": "execute_result"
    }
   ],
   "source": [
    "airbnb_top_shinjuku.head(1)"
   ]
  },
  {
   "cell_type": "code",
   "execution_count": 35,
   "metadata": {},
   "outputs": [
    {
     "data": {
      "text/html": [
       "<div>\n",
       "<style scoped>\n",
       "    .dataframe tbody tr th:only-of-type {\n",
       "        vertical-align: middle;\n",
       "    }\n",
       "\n",
       "    .dataframe tbody tr th {\n",
       "        vertical-align: top;\n",
       "    }\n",
       "\n",
       "    .dataframe thead th {\n",
       "        text-align: right;\n",
       "    }\n",
       "</style>\n",
       "<table border=\"1\" class=\"dataframe\">\n",
       "  <thead>\n",
       "    <tr style=\"text-align: right;\">\n",
       "      <th></th>\n",
       "      <th>id</th>\n",
       "      <th>name</th>\n",
       "      <th>neighbourhood_cleansed</th>\n",
       "      <th>review_scores_rating</th>\n",
       "    </tr>\n",
       "  </thead>\n",
       "  <tbody>\n",
       "    <tr>\n",
       "      <th>457</th>\n",
       "      <td>9467882</td>\n",
       "      <td>YATSUDE･Japanese room /shared bathroom(1F)</td>\n",
       "      <td>Taito Ku</td>\n",
       "      <td>100.0</td>\n",
       "    </tr>\n",
       "  </tbody>\n",
       "</table>\n",
       "</div>"
      ],
      "text/plain": [
       "          id                                        name  \\\n",
       "457  9467882  YATSUDE･Japanese room /shared bathroom(1F)   \n",
       "\n",
       "    neighbourhood_cleansed  review_scores_rating  \n",
       "457               Taito Ku                 100.0  "
      ]
     },
     "execution_count": 35,
     "metadata": {},
     "output_type": "execute_result"
    }
   ],
   "source": [
    "airbnb_top_taitoku.head(1)"
   ]
  },
  {
   "cell_type": "code",
   "execution_count": 36,
   "metadata": {},
   "outputs": [
    {
     "data": {
      "text/html": [
       "<div>\n",
       "<style scoped>\n",
       "    .dataframe tbody tr th:only-of-type {\n",
       "        vertical-align: middle;\n",
       "    }\n",
       "\n",
       "    .dataframe tbody tr th {\n",
       "        vertical-align: top;\n",
       "    }\n",
       "\n",
       "    .dataframe thead th {\n",
       "        text-align: right;\n",
       "    }\n",
       "</style>\n",
       "<table border=\"1\" class=\"dataframe\">\n",
       "  <thead>\n",
       "    <tr style=\"text-align: right;\">\n",
       "      <th></th>\n",
       "      <th>id</th>\n",
       "      <th>name</th>\n",
       "      <th>neighbourhood_cleansed</th>\n",
       "      <th>review_scores_rating</th>\n",
       "    </tr>\n",
       "  </thead>\n",
       "  <tbody>\n",
       "    <tr>\n",
       "      <th>1184</th>\n",
       "      <td>15906951</td>\n",
       "      <td>HOUSE, 2 pocket Wifi, 4 min walk to Ikebukuro ...</td>\n",
       "      <td>Toshima Ku</td>\n",
       "      <td>100.0</td>\n",
       "    </tr>\n",
       "  </tbody>\n",
       "</table>\n",
       "</div>"
      ],
      "text/plain": [
       "            id                                               name  \\\n",
       "1184  15906951  HOUSE, 2 pocket Wifi, 4 min walk to Ikebukuro ...   \n",
       "\n",
       "     neighbourhood_cleansed  review_scores_rating  \n",
       "1184             Toshima Ku                 100.0  "
      ]
     },
     "execution_count": 36,
     "metadata": {},
     "output_type": "execute_result"
    }
   ],
   "source": [
    "airbnb_top_toshimaku.head(1)"
   ]
  },
  {
   "cell_type": "code",
   "execution_count": 37,
   "metadata": {},
   "outputs": [
    {
     "data": {
      "text/html": [
       "<div>\n",
       "<style scoped>\n",
       "    .dataframe tbody tr th:only-of-type {\n",
       "        vertical-align: middle;\n",
       "    }\n",
       "\n",
       "    .dataframe tbody tr th {\n",
       "        vertical-align: top;\n",
       "    }\n",
       "\n",
       "    .dataframe thead th {\n",
       "        text-align: right;\n",
       "    }\n",
       "</style>\n",
       "<table border=\"1\" class=\"dataframe\">\n",
       "  <thead>\n",
       "    <tr style=\"text-align: right;\">\n",
       "      <th></th>\n",
       "      <th>id</th>\n",
       "      <th>name</th>\n",
       "      <th>neighbourhood_cleansed</th>\n",
       "      <th>review_scores_rating</th>\n",
       "    </tr>\n",
       "  </thead>\n",
       "  <tbody>\n",
       "    <tr>\n",
       "      <th>1982</th>\n",
       "      <td>20607843</td>\n",
       "      <td>5min AKIHABARA, 10min ASAKUSA COZY 4ppl PRIVAT...</td>\n",
       "      <td>Sumida Ku</td>\n",
       "      <td>100.0</td>\n",
       "    </tr>\n",
       "  </tbody>\n",
       "</table>\n",
       "</div>"
      ],
      "text/plain": [
       "            id                                               name  \\\n",
       "1982  20607843  5min AKIHABARA, 10min ASAKUSA COZY 4ppl PRIVAT...   \n",
       "\n",
       "     neighbourhood_cleansed  review_scores_rating  \n",
       "1982              Sumida Ku                 100.0  "
      ]
     },
     "execution_count": 37,
     "metadata": {},
     "output_type": "execute_result"
    }
   ],
   "source": [
    "airbnb_top_sumidaku.head(1)"
   ]
  },
  {
   "cell_type": "code",
   "execution_count": 38,
   "metadata": {},
   "outputs": [
    {
     "data": {
      "text/html": [
       "<div>\n",
       "<style scoped>\n",
       "    .dataframe tbody tr th:only-of-type {\n",
       "        vertical-align: middle;\n",
       "    }\n",
       "\n",
       "    .dataframe tbody tr th {\n",
       "        vertical-align: top;\n",
       "    }\n",
       "\n",
       "    .dataframe thead th {\n",
       "        text-align: right;\n",
       "    }\n",
       "</style>\n",
       "<table border=\"1\" class=\"dataframe\">\n",
       "  <thead>\n",
       "    <tr style=\"text-align: right;\">\n",
       "      <th></th>\n",
       "      <th>id</th>\n",
       "      <th>name</th>\n",
       "      <th>neighbourhood_cleansed</th>\n",
       "      <th>review_scores_rating</th>\n",
       "    </tr>\n",
       "  </thead>\n",
       "  <tbody>\n",
       "    <tr>\n",
       "      <th>576</th>\n",
       "      <td>10582789</td>\n",
       "      <td>♥ようこそ  Hygge cat themed home Yoyogi park Shibuya♥</td>\n",
       "      <td>Shibuya Ku</td>\n",
       "      <td>100.0</td>\n",
       "    </tr>\n",
       "  </tbody>\n",
       "</table>\n",
       "</div>"
      ],
      "text/plain": [
       "           id                                               name  \\\n",
       "576  10582789  ♥ようこそ  Hygge cat themed home Yoyogi park Shibuya♥   \n",
       "\n",
       "    neighbourhood_cleansed  review_scores_rating  \n",
       "576             Shibuya Ku                 100.0  "
      ]
     },
     "execution_count": 38,
     "metadata": {},
     "output_type": "execute_result"
    }
   ],
   "source": [
    "airbnb_top_shibuya.head(1)"
   ]
  },
  {
   "cell_type": "code",
   "execution_count": 44,
   "metadata": {},
   "outputs": [
    {
     "data": {
      "text/html": [
       "<div>\n",
       "<style scoped>\n",
       "    .dataframe tbody tr th:only-of-type {\n",
       "        vertical-align: middle;\n",
       "    }\n",
       "\n",
       "    .dataframe tbody tr th {\n",
       "        vertical-align: top;\n",
       "    }\n",
       "\n",
       "    .dataframe thead th {\n",
       "        text-align: right;\n",
       "    }\n",
       "</style>\n",
       "<table border=\"1\" class=\"dataframe\">\n",
       "  <thead>\n",
       "    <tr style=\"text-align: right;\">\n",
       "      <th></th>\n",
       "      <th>id</th>\n",
       "      <th>name</th>\n",
       "      <th>space</th>\n",
       "      <th>review_scores_rating</th>\n",
       "    </tr>\n",
       "  </thead>\n",
       "  <tbody>\n",
       "    <tr>\n",
       "      <th>0</th>\n",
       "      <td>35303</td>\n",
       "      <td>La Casa Gaienmae C Harajuku, Omotesando is nearby</td>\n",
       "      <td>This apartment is 3 bedroom flat shared with t...</td>\n",
       "      <td>94.0</td>\n",
       "    </tr>\n",
       "    <tr>\n",
       "      <th>1</th>\n",
       "      <td>197677</td>\n",
       "      <td>Oshiage Holiday Apartment</td>\n",
       "      <td>We are happy to welcome you to our apartment, ...</td>\n",
       "      <td>95.0</td>\n",
       "    </tr>\n",
       "    <tr>\n",
       "      <th>2</th>\n",
       "      <td>289597</td>\n",
       "      <td>Private apt in central Tokyo #203</td>\n",
       "      <td>::::::::::::::::::::::::::::::::::::::::::::::...</td>\n",
       "      <td>95.0</td>\n",
       "    </tr>\n",
       "    <tr>\n",
       "      <th>3</th>\n",
       "      <td>370759</td>\n",
       "      <td>Cozy flat #203, local area YET 10 mins to shib...</td>\n",
       "      <td>Cozy and Relaxing, at home feeling in a reside...</td>\n",
       "      <td>95.0</td>\n",
       "    </tr>\n",
       "    <tr>\n",
       "      <th>4</th>\n",
       "      <td>700253</td>\n",
       "      <td>Private apt in central Tokyo #201</td>\n",
       "      <td>::::::::::::::::::::::::::::::::::::::::::::::...</td>\n",
       "      <td>96.0</td>\n",
       "    </tr>\n",
       "    <tr>\n",
       "      <th>5</th>\n",
       "      <td>872235</td>\n",
       "      <td>RELAX AT HOME:Shimo 5'/Shibuya 10'</td>\n",
       "      <td>Nice LITTLE house with atmosphere in Tokyo. Be...</td>\n",
       "      <td>96.0</td>\n",
       "    </tr>\n",
       "    <tr>\n",
       "      <th>6</th>\n",
       "      <td>899003</td>\n",
       "      <td>Classy room @Shinjuku, Takadanoba</td>\n",
       "      <td>Walkable from Shinjuku station even if you mis...</td>\n",
       "      <td>90.0</td>\n",
       "    </tr>\n",
       "    <tr>\n",
       "      <th>7</th>\n",
       "      <td>905944</td>\n",
       "      <td>4F - Near Shinjuku &amp; Shibuya w/Free WiFi</td>\n",
       "      <td>Welcome and thank you for reading the details ...</td>\n",
       "      <td>95.0</td>\n",
       "    </tr>\n",
       "    <tr>\n",
       "      <th>8</th>\n",
       "      <td>1016831</td>\n",
       "      <td>WOMAN ONLY LICENSED ! Cosy &amp; Cat behnd Shibuya</td>\n",
       "      <td>We offer quite and peaceful private 6 tatami r...</td>\n",
       "      <td>99.0</td>\n",
       "    </tr>\n",
       "    <tr>\n",
       "      <th>9</th>\n",
       "      <td>1096292</td>\n",
       "      <td>Home stay with a Japanese language teacher fam...</td>\n",
       "      <td>★*:.★*:.  Must Read 2 .:*★.:*★ *:.Your private...</td>\n",
       "      <td>98.0</td>\n",
       "    </tr>\n",
       "  </tbody>\n",
       "</table>\n",
       "</div>"
      ],
      "text/plain": [
       "        id                                               name  \\\n",
       "0    35303  La Casa Gaienmae C Harajuku, Omotesando is nearby   \n",
       "1   197677                          Oshiage Holiday Apartment   \n",
       "2   289597                  Private apt in central Tokyo #203   \n",
       "3   370759  Cozy flat #203, local area YET 10 mins to shib...   \n",
       "4   700253                  Private apt in central Tokyo #201   \n",
       "5   872235                 RELAX AT HOME:Shimo 5'/Shibuya 10'   \n",
       "6   899003                  Classy room @Shinjuku, Takadanoba   \n",
       "7   905944           4F - Near Shinjuku & Shibuya w/Free WiFi   \n",
       "8  1016831     WOMAN ONLY LICENSED ! Cosy & Cat behnd Shibuya   \n",
       "9  1096292  Home stay with a Japanese language teacher fam...   \n",
       "\n",
       "                                               space  review_scores_rating  \n",
       "0  This apartment is 3 bedroom flat shared with t...                  94.0  \n",
       "1  We are happy to welcome you to our apartment, ...                  95.0  \n",
       "2  ::::::::::::::::::::::::::::::::::::::::::::::...                  95.0  \n",
       "3  Cozy and Relaxing, at home feeling in a reside...                  95.0  \n",
       "4  ::::::::::::::::::::::::::::::::::::::::::::::...                  96.0  \n",
       "5  Nice LITTLE house with atmosphere in Tokyo. Be...                  96.0  \n",
       "6  Walkable from Shinjuku station even if you mis...                  90.0  \n",
       "7  Welcome and thank you for reading the details ...                  95.0  \n",
       "8  We offer quite and peaceful private 6 tatami r...                  99.0  \n",
       "9  ★*:.★*:.  Must Read 2 .:*★.:*★ *:.Your private...                  98.0  "
      ]
     },
     "execution_count": 44,
     "metadata": {},
     "output_type": "execute_result"
    }
   ],
   "source": [
    "airbnb = pd.read_csv('./Desktop/listings-2.csv', usecols = ['id', 'name', 'space','review_scores_rating'])\n",
    "airbnb.head()"
   ]
  },
  {
   "cell_type": "code",
   "execution_count": 45,
   "metadata": {},
   "outputs": [],
   "source": [
    "def print_description(index):\n",
    "    example = airbnb[airbnb.index == index][['id', 'name', 'space','review_scores_rating']].values[0]\n",
    "    if len(example) > 0:\n",
    "        print(example[0])\n",
    "        print('Nama:', example[1])\n",
    "        print('Space:\\n',example[2])  \n",
    "        print('Rating:\\n',example[3])"
   ]
  },
  {
   "cell_type": "code",
   "execution_count": 46,
   "metadata": {},
   "outputs": [
    {
     "name": "stdout",
     "output_type": "stream",
     "text": [
      "197677\n",
      "Nama: Oshiage Holiday Apartment\n",
      "Space:\n",
      " We are happy to welcome you to our apartment, located in the heart of Tokyo downtown. This is an authentic Japanese apartment with Tatami mattress room and sleeping on Japanese Futon, like Ryokan style. Fully equipped and convienient kitchen will give you oportunity to feel like at home. Automatic bath tub. Separate toilet with heating seat and washlet. Direct acces from both Narita and Haneda airports. Easy access to most of Tokyo attractions. 10min walk from Oshiage Station, 7min walk from Tobu Hikifune Station, 8min walk from Heisei Hikifune Station. Free internet access. Air conditioning, 2 semi-double futon bed (for 2 person each), LCD 32 inch TV, full kitchen, microwave, toster, electric pot, refrigerator, coffee maker, iron, hair dryer, washing machine, bathroom with a bath tub and shower, gas grill. Cooking utensils and linens provided. Our apartment is located in the center of Tokyo downtown, where you can still taste real traditional Japanese style of living. 3 minutes by sub\n",
      "Rating:\n",
      " 95.0\n"
     ]
    }
   ],
   "source": [
    "print_description(1)"
   ]
  },
  {
   "cell_type": "code",
   "execution_count": 47,
   "metadata": {},
   "outputs": [],
   "source": [
    "airbnb['content'] = airbnb[['name', 'space','review_scores_rating']].astype(str).apply(lambda x: ' // '.join(x), axis = 1)"
   ]
  },
  {
   "cell_type": "code",
   "execution_count": 48,
   "metadata": {},
   "outputs": [],
   "source": [
    "tf = TfidfVectorizer(analyzer = 'word', ngram_range = (1, 2), min_df = 0, stop_words = 'english')\n",
    "tfidf_matrix = tf.fit_transform(airbnb['content'])"
   ]
  },
  {
   "cell_type": "code",
   "execution_count": 49,
   "metadata": {},
   "outputs": [],
   "source": [
    "cosine_similarities = linear_kernel(tfidf_matrix, tfidf_matrix)"
   ]
  },
  {
   "cell_type": "code",
   "execution_count": 50,
   "metadata": {},
   "outputs": [],
   "source": [
    "results = {}\n",
    "for idx, row in airbnb.iterrows():\n",
    "    similar_indices = cosine_similarities[idx].argsort()[:-100:-1]\n",
    "    similar_items = [(cosine_similarities[idx][i], airbnb['id'][i]) for i in similar_indices]\n",
    "    results[row['id']] = similar_items[1:]"
   ]
  },
  {
   "cell_type": "code",
   "execution_count": 51,
   "metadata": {},
   "outputs": [],
   "source": [
    "def item(neighbourhood_cleansed):\n",
    "    name   = airbnb.loc[airbnb['id'] == neighbourhood_cleansed]['content'].tolist()[0].split(' // ')[0]\n",
    "    desc   = ' \\nSpace: ' + airbnb.loc[airbnb['id'] == neighbourhood_cleansed]['content'].tolist()[0].split(' // ')[1][0:165] + '...'\n",
    "    prediction = name  + desc\n",
    "    return prediction\n",
    "\n",
    "def recommend(kota, num):\n",
    "    print('Rekomendasi ' + str(num) + ' listing yang mirip dengan ' + item(kota))\n",
    "    print('---')\n",
    "    recs = results[kota][:num]\n",
    "    for rec in recs:\n",
    "        print('\\nNama : ' + item(rec[1]))"
   ]
  },
  {
   "cell_type": "code",
   "execution_count": 52,
   "metadata": {},
   "outputs": [
    {
     "data": {
      "text/html": [
       "<div>\n",
       "<style scoped>\n",
       "    .dataframe tbody tr th:only-of-type {\n",
       "        vertical-align: middle;\n",
       "    }\n",
       "\n",
       "    .dataframe tbody tr th {\n",
       "        vertical-align: top;\n",
       "    }\n",
       "\n",
       "    .dataframe thead th {\n",
       "        text-align: right;\n",
       "    }\n",
       "</style>\n",
       "<table border=\"1\" class=\"dataframe\">\n",
       "  <thead>\n",
       "    <tr style=\"text-align: right;\">\n",
       "      <th></th>\n",
       "      <th>id</th>\n",
       "      <th>name</th>\n",
       "      <th>neighbourhood_cleansed</th>\n",
       "      <th>review_scores_rating</th>\n",
       "    </tr>\n",
       "  </thead>\n",
       "  <tbody>\n",
       "    <tr>\n",
       "      <th>374</th>\n",
       "      <td>8398953</td>\n",
       "      <td>EXPERIENCE JAPAN with my family!!</td>\n",
       "      <td>Shinjuku Ku</td>\n",
       "      <td>100.0</td>\n",
       "    </tr>\n",
       "  </tbody>\n",
       "</table>\n",
       "</div>"
      ],
      "text/plain": [
       "          id                               name neighbourhood_cleansed  \\\n",
       "374  8398953  EXPERIENCE JAPAN with my family!!            Shinjuku Ku   \n",
       "\n",
       "     review_scores_rating  \n",
       "374                 100.0  "
      ]
     },
     "execution_count": 52,
     "metadata": {},
     "output_type": "execute_result"
    }
   ],
   "source": [
    "airbnb_top_shinjuku.head(1)"
   ]
  },
  {
   "cell_type": "code",
   "execution_count": 53,
   "metadata": {},
   "outputs": [
    {
     "data": {
      "text/html": [
       "<div>\n",
       "<style scoped>\n",
       "    .dataframe tbody tr th:only-of-type {\n",
       "        vertical-align: middle;\n",
       "    }\n",
       "\n",
       "    .dataframe tbody tr th {\n",
       "        vertical-align: top;\n",
       "    }\n",
       "\n",
       "    .dataframe thead th {\n",
       "        text-align: right;\n",
       "    }\n",
       "</style>\n",
       "<table border=\"1\" class=\"dataframe\">\n",
       "  <thead>\n",
       "    <tr style=\"text-align: right;\">\n",
       "      <th></th>\n",
       "      <th>id</th>\n",
       "      <th>name</th>\n",
       "      <th>neighbourhood_cleansed</th>\n",
       "      <th>review_scores_rating</th>\n",
       "    </tr>\n",
       "  </thead>\n",
       "  <tbody>\n",
       "    <tr>\n",
       "      <th>457</th>\n",
       "      <td>9467882</td>\n",
       "      <td>YATSUDE･Japanese room /shared bathroom(1F)</td>\n",
       "      <td>Taito Ku</td>\n",
       "      <td>100.0</td>\n",
       "    </tr>\n",
       "  </tbody>\n",
       "</table>\n",
       "</div>"
      ],
      "text/plain": [
       "          id                                        name  \\\n",
       "457  9467882  YATSUDE･Japanese room /shared bathroom(1F)   \n",
       "\n",
       "    neighbourhood_cleansed  review_scores_rating  \n",
       "457               Taito Ku                 100.0  "
      ]
     },
     "execution_count": 53,
     "metadata": {},
     "output_type": "execute_result"
    }
   ],
   "source": [
    "airbnb_top_taitoku.head(1)"
   ]
  },
  {
   "cell_type": "code",
   "execution_count": 54,
   "metadata": {},
   "outputs": [
    {
     "data": {
      "text/html": [
       "<div>\n",
       "<style scoped>\n",
       "    .dataframe tbody tr th:only-of-type {\n",
       "        vertical-align: middle;\n",
       "    }\n",
       "\n",
       "    .dataframe tbody tr th {\n",
       "        vertical-align: top;\n",
       "    }\n",
       "\n",
       "    .dataframe thead th {\n",
       "        text-align: right;\n",
       "    }\n",
       "</style>\n",
       "<table border=\"1\" class=\"dataframe\">\n",
       "  <thead>\n",
       "    <tr style=\"text-align: right;\">\n",
       "      <th></th>\n",
       "      <th>id</th>\n",
       "      <th>name</th>\n",
       "      <th>neighbourhood_cleansed</th>\n",
       "      <th>review_scores_rating</th>\n",
       "    </tr>\n",
       "  </thead>\n",
       "  <tbody>\n",
       "    <tr>\n",
       "      <th>1184</th>\n",
       "      <td>15906951</td>\n",
       "      <td>HOUSE, 2 pocket Wifi, 4 min walk to Ikebukuro ...</td>\n",
       "      <td>Toshima Ku</td>\n",
       "      <td>100.0</td>\n",
       "    </tr>\n",
       "  </tbody>\n",
       "</table>\n",
       "</div>"
      ],
      "text/plain": [
       "            id                                               name  \\\n",
       "1184  15906951  HOUSE, 2 pocket Wifi, 4 min walk to Ikebukuro ...   \n",
       "\n",
       "     neighbourhood_cleansed  review_scores_rating  \n",
       "1184             Toshima Ku                 100.0  "
      ]
     },
     "execution_count": 54,
     "metadata": {},
     "output_type": "execute_result"
    }
   ],
   "source": [
    "airbnb_top_toshimaku.head(1)"
   ]
  },
  {
   "cell_type": "code",
   "execution_count": 55,
   "metadata": {},
   "outputs": [
    {
     "data": {
      "text/html": [
       "<div>\n",
       "<style scoped>\n",
       "    .dataframe tbody tr th:only-of-type {\n",
       "        vertical-align: middle;\n",
       "    }\n",
       "\n",
       "    .dataframe tbody tr th {\n",
       "        vertical-align: top;\n",
       "    }\n",
       "\n",
       "    .dataframe thead th {\n",
       "        text-align: right;\n",
       "    }\n",
       "</style>\n",
       "<table border=\"1\" class=\"dataframe\">\n",
       "  <thead>\n",
       "    <tr style=\"text-align: right;\">\n",
       "      <th></th>\n",
       "      <th>id</th>\n",
       "      <th>name</th>\n",
       "      <th>neighbourhood_cleansed</th>\n",
       "      <th>review_scores_rating</th>\n",
       "    </tr>\n",
       "  </thead>\n",
       "  <tbody>\n",
       "    <tr>\n",
       "      <th>1982</th>\n",
       "      <td>20607843</td>\n",
       "      <td>5min AKIHABARA, 10min ASAKUSA COZY 4ppl PRIVAT...</td>\n",
       "      <td>Sumida Ku</td>\n",
       "      <td>100.0</td>\n",
       "    </tr>\n",
       "  </tbody>\n",
       "</table>\n",
       "</div>"
      ],
      "text/plain": [
       "            id                                               name  \\\n",
       "1982  20607843  5min AKIHABARA, 10min ASAKUSA COZY 4ppl PRIVAT...   \n",
       "\n",
       "     neighbourhood_cleansed  review_scores_rating  \n",
       "1982              Sumida Ku                 100.0  "
      ]
     },
     "execution_count": 55,
     "metadata": {},
     "output_type": "execute_result"
    }
   ],
   "source": [
    "airbnb_top_sumidaku.head(1)"
   ]
  },
  {
   "cell_type": "code",
   "execution_count": 56,
   "metadata": {},
   "outputs": [
    {
     "data": {
      "text/html": [
       "<div>\n",
       "<style scoped>\n",
       "    .dataframe tbody tr th:only-of-type {\n",
       "        vertical-align: middle;\n",
       "    }\n",
       "\n",
       "    .dataframe tbody tr th {\n",
       "        vertical-align: top;\n",
       "    }\n",
       "\n",
       "    .dataframe thead th {\n",
       "        text-align: right;\n",
       "    }\n",
       "</style>\n",
       "<table border=\"1\" class=\"dataframe\">\n",
       "  <thead>\n",
       "    <tr style=\"text-align: right;\">\n",
       "      <th></th>\n",
       "      <th>id</th>\n",
       "      <th>name</th>\n",
       "      <th>neighbourhood_cleansed</th>\n",
       "      <th>review_scores_rating</th>\n",
       "    </tr>\n",
       "  </thead>\n",
       "  <tbody>\n",
       "    <tr>\n",
       "      <th>576</th>\n",
       "      <td>10582789</td>\n",
       "      <td>♥ようこそ  Hygge cat themed home Yoyogi park Shibuya♥</td>\n",
       "      <td>Shibuya Ku</td>\n",
       "      <td>100.0</td>\n",
       "    </tr>\n",
       "  </tbody>\n",
       "</table>\n",
       "</div>"
      ],
      "text/plain": [
       "           id                                               name  \\\n",
       "576  10582789  ♥ようこそ  Hygge cat themed home Yoyogi park Shibuya♥   \n",
       "\n",
       "    neighbourhood_cleansed  review_scores_rating  \n",
       "576             Shibuya Ku                 100.0  "
      ]
     },
     "execution_count": 56,
     "metadata": {},
     "output_type": "execute_result"
    }
   ],
   "source": [
    "airbnb_top_shibuya.head(1)"
   ]
  },
  {
   "cell_type": "code",
   "execution_count": 58,
   "metadata": {},
   "outputs": [
    {
     "name": "stdin",
     "output_type": "stream",
     "text": [
      "Masukkan ID:  15906951\n",
      "Masukkan Jumlah Pencarian: \n",
      " 5\n"
     ]
    },
    {
     "name": "stdout",
     "output_type": "stream",
     "text": [
      "Rekomendasi 5 listing yang mirip dengan HOUSE, 2 pocket Wifi, 4 min walk to Ikebukuro Stat \n",
      "Space: This home is located in a quiet residential area, and can accommodate up to 8 guests. It is in the perfect location for exploring Tokyo, as it is near Ikebukuro stat...\n",
      "---\n",
      "\n",
      "Nama : House, 2 mobile wifi, 4 mins walk to JR Station \n",
      "Space: This house is located in a quiet residential area, and can house up to 5 guests. There are two independent bedrooms, a living room, kitchen, separate toilet and bath...\n",
      "\n",
      "Nama : GR202 Akasaka, Roppongi/8mins to Shinjuku, Shibuya \n",
      "Space: Modern, brand new 1BR apartment space with Japanese styled interior. Can  accommodate up to guests. Perfect for couples and single travelers.   ★Amenities★ In additi...\n",
      "\n",
      "Nama : GR201 Nr Roppongi/2pax/Direct to Shinjuku, Shibuya \n",
      "Space: Modern, brand new 1BR apartment space with Japanese styled interior. Can accommodate up to 2 people - perfect for couples or single travelers.  ★Amenities★ In additi...\n",
      "\n",
      "Nama : Luxury 3LDK Home, 6 ppl, Asakusa & Akihabara area \n",
      "Space: The luxurious 3LDK house makes you feel comfortable while you stay! Providing 2 double beds and 2 Japanese futons. Basic kitchen tools are available, so feel free to...\n",
      "\n",
      "Nama : GR102 1BR near to Roppongi/Direct to Ginza,Shibuya \n",
      "Space: Modern, brand new 1BR apartment space with Japanese styled interior. Can accommodate up to 2 people - perfect for couples or single travelers. ★Amenities★ In additio...\n"
     ]
    }
   ],
   "source": [
    "ID = int(input(\"Masukkan ID: \"))\n",
    "JUMLAH = int(input(\"Masukkan Jumlah Pencarian: \\n\"))\n",
    "recommend(kota = ID ,num = JUMLAH)"
   ]
  },
  {
   "cell_type": "code",
   "execution_count": null,
   "metadata": {},
   "outputs": [],
   "source": []
  }
 ],
 "metadata": {
  "kernelspec": {
   "display_name": "Python 3",
   "language": "python",
   "name": "python3"
  },
  "language_info": {
   "codemirror_mode": {
    "name": "ipython",
    "version": 3
   },
   "file_extension": ".py",
   "mimetype": "text/x-python",
   "name": "python",
   "nbconvert_exporter": "python",
   "pygments_lexer": "ipython3",
   "version": "3.7.6"
  }
 },
 "nbformat": 4,
 "nbformat_minor": 4
}
